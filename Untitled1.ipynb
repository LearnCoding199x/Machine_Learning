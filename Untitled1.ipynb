{
  "nbformat": 4,
  "nbformat_minor": 0,
  "metadata": {
    "colab": {
      "name": "Untitled1.ipynb",
      "version": "0.3.2",
      "provenance": [],
      "collapsed_sections": [],
      "include_colab_link": true
    },
    "kernelspec": {
      "name": "python3",
      "display_name": "Python 3"
    },
    "accelerator": "TPU"
  },
  "cells": [
    {
      "cell_type": "markdown",
      "metadata": {
        "id": "view-in-github",
        "colab_type": "text"
      },
      "source": [
        "[View in Colaboratory](https://colab.research.google.com/github/LearnCoding199x/Machine_Learning/blob/master/Untitled1.ipynb)"
      ]
    },
    {
      "metadata": {
        "id": "GVttWqHDzWQa",
        "colab_type": "code",
        "colab": {}
      },
      "cell_type": "code",
      "source": [
        "import tensorflow as tf\n",
        "import numpy as np\n",
        "import matplotlib.pyplot as plt\n",
        "import math"
      ],
      "execution_count": 0,
      "outputs": []
    },
    {
      "metadata": {
        "id": "EPzHNMuovBVQ",
        "colab_type": "code",
        "colab": {}
      },
      "cell_type": "code",
      "source": [
        "def gen(num_train=1000,num_feature=5):\n",
        "    gen_graph =  tf.Graph()\n",
        "    with gen_graph.as_default():\n",
        "        w = tf.random_normal([num_feature,1])\n",
        "        b = tf.Variable(np.random.rand())\n",
        "        x = tf.random_normal(shape=[num_train,num_feature])\n",
        "        y = tf.matmul(x,w)+b\n",
        "    with tf.Session(graph=gen_graph) as sess:\n",
        "        sess.run(tf.global_variables_initializer())\n",
        "        x,y,w,b =sess.run([x,y,w,b])\n",
        "        return x,y,w,b"
      ],
      "execution_count": 0,
      "outputs": []
    },
    {
      "metadata": {
        "id": "iX6PibGGvPAQ",
        "colab_type": "code",
        "colab": {}
      },
      "cell_type": "code",
      "source": [
        "# X : matrix mxn\n",
        "# w : matrix nx1\n",
        "# y : matrix mx1\n",
        "# b : scalar\n",
        "def linreg(x,y,batch_size=64,lr=0.01,epoches=1000):\n",
        "    num_train = x.shape[0]\n",
        "    num_feature = x.shape[1]\n",
        "    losses = []\n",
        "    dataset = tf.data.Dataset.from_tensor_slices((x,y)).batch(batch_size = batch_size)\n",
        "    iter = dataset.make_initializable_iterator()\n",
        "    features,label = iter.get_next()\n",
        "    w = tf.Variable(tf.zeros([num_feature,1]))\n",
        "    b = tf.Variable(np.random.rand())\n",
        "    x_t = tf.placeholder(tf.float32,shape=[None,num_feature])\n",
        "    y_true = tf.placeholder(tf.float32,shape=[None,1])\n",
        "    y_t = tf.matmul(x_t,w)+b\n",
        "    loss = 0.5 * tf.reduce_mean(tf.square(y_t-y_true),0)\n",
        "    update_w = w.assign(tf.subtract(w,tf.matmul(tf.transpose(x_t),(y_t-y_true))*(1.0/num_train)*lr))\n",
        "    update_b = b.assign(tf.subtract(b,tf.reduce_mean(y_t-y_true)*lr))\n",
        "    with tf.Session(graph=tf.get_default_graph()) as sess:\n",
        "        sess.run(tf.global_variables_initializer())\n",
        "        for epoch in range(epoches):\n",
        "          sess.run(iter.initializer)\n",
        "          print(epoch)\n",
        "          while True:\n",
        "            try:\n",
        "              tempx,tempy = sess.run(iter.get_next())\n",
        "              _loss,_u,_b=sess.run([loss,update_w,update_b],feed_dict={x_t :tempx ,y_true :tempy })\n",
        "            except tf.errors.OutOfRangeError:\n",
        "              break\n",
        "          if epoch%50==0:\n",
        "              print(\"Epoch {} : Loss {}\".format(epoch,_loss))\n",
        "          losses.append(_loss)\n",
        "        \n",
        "    plt.plot(losses)\n",
        "    plt.show()\n",
        "    print('Prediction w ',_w)\n",
        "    print('Prediction b ',_b)"
      ],
      "execution_count": 0,
      "outputs": []
    },
    {
      "metadata": {
        "id": "YDUA1gyMvTUQ",
        "colab_type": "code",
        "colab": {
          "base_uri": "https://localhost:8080/",
          "height": 360
        },
        "outputId": "e23cebed-5c28-4c91-b291-3aabd8303a90"
      },
      "cell_type": "code",
      "source": [
        "x,y,w,b=gen()\n",
        "linreg(x,y)\n",
        "print('Real w values ',w)\n",
        "print('Real b values ',b)"
      ],
      "execution_count": 0,
      "outputs": [
        {
          "output_type": "stream",
          "text": [
            "Epoch 0 : Loss [0.44477662]\n"
          ],
          "name": "stdout"
        },
        {
          "output_type": "stream",
          "text": [
            "/usr/local/lib/python3.6/dist-packages/tensorflow/python/data/ops/iterator_ops.py:406: UserWarning: An unusually high number of `Iterator.get_next()` calls was detected. This often indicates that `Iterator.get_next()` is being called inside a training loop, which will cause gradual slowdown and eventual resource exhaustion. If this is the case, restructure your code to call `next_element = iterator.get_next()` once outside the loop, and use `next_element` as the input to some computation that is invoked inside the loop.\n",
            "  warnings.warn(GET_NEXT_CALL_WARNING_MESSAGE)\n"
          ],
          "name": "stderr"
        },
        {
          "output_type": "stream",
          "text": [
            "Epoch 50 : Loss [0.15225406]\n",
            "Epoch 100 : Loss [0.05435342]\n",
            "Epoch 150 : Loss [0.01943007]\n",
            "Epoch 200 : Loss [0.00695585]\n",
            "Epoch 250 : Loss [0.00249389]\n",
            "Epoch 300 : Loss [0.00089551]\n",
            "Epoch 350 : Loss [0.00032208]\n",
            "Epoch 400 : Loss [0.00011603]\n",
            "Epoch 450 : Loss [4.1873252e-05]\n",
            "Epoch 500 : Loss [1.5141236e-05]\n",
            "Epoch 550 : Loss [5.4834895e-06]\n",
            "Epoch 600 : Loss [1.989711e-06]\n",
            "Epoch 650 : Loss [7.2349576e-07]\n",
            "Epoch 700 : Loss [2.6346441e-07]\n",
            "Epoch 750 : Loss [9.629481e-08]\n",
            "Epoch 800 : Loss [3.503332e-08]\n"
          ],
          "name": "stdout"
        }
      ]
    },
    {
      "metadata": {
        "id": "-Gm67gkVvYII",
        "colab_type": "code",
        "colab": {}
      },
      "cell_type": "code",
      "source": [
        ""
      ],
      "execution_count": 0,
      "outputs": []
    }
  ]
}